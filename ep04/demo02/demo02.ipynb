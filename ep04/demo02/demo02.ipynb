{
 "cells": [
  {
   "cell_type": "code",
   "execution_count": null,
   "metadata": {
    "dotnet_interactive": {
     "language": "csharp"
    },
    "polyglot_notebook": {
     "kernelName": "csharp"
    },
    "vscode": {
     "languageId": "polyglot-notebook"
    }
   },
   "outputs": [],
   "source": [
    "// Import NuGet packages\n",
    "#r \"nuget: Microsoft.Extensions.Configuration.Json, 9.*\"\n",
    "#r \"nuget: Microsoft.Extensions.AI, 9.*-*\"\n",
    "#r \"nuget: Microsoft.Extensions.DependencyInjection.Abstractions, 9.*\"\n",
    "#r \"nuget: Microsoft.SemanticKernel, 1.*\"\n",
    "#r \"nuget: Microsoft.SemanticKernel.Plugins.Core, 1.*-*\"\n"
   ]
  },
  {
   "cell_type": "code",
   "execution_count": null,
   "metadata": {
    "vscode": {
     "languageId": "polyglot-notebook"
    }
   },
   "outputs": [],
   "source": [
    "// Import namespaces\n",
    "using System.ClientModel;\n",
    "using System.IO;\n",
    "\n",
    "using Microsoft.Extensions.Configuration;\n",
    "using Microsoft.Extensions.AI;\n",
    "using Microsoft.SemanticKernel;\n",
    "using Microsoft.SemanticKernel.ChatCompletion;\n",
    "using Microsoft.SemanticKernel.Connectors.OpenAI;\n",
    "\n",
    "using OpenAI;\n"
   ]
  },
  {
   "cell_type": "code",
   "execution_count": null,
   "metadata": {
    "vscode": {
     "languageId": "polyglot-notebook"
    }
   },
   "outputs": [],
   "source": [
    "// Import OpenAI Configurations\n",
    "var path = Path.Combine(Directory.GetCurrentDirectory(), \"appsettings.Development.json\");\n",
    "var config = new ConfigurationBuilder().AddJsonFile(path).Build();"
   ]
  },
  {
   "cell_type": "code",
   "execution_count": null,
   "metadata": {
    "vscode": {
     "languageId": "polyglot-notebook"
    }
   },
   "outputs": [],
   "source": [
    "// Create a Semantic Kernel instance with Azure OpenAI chat completions\n",
    "var kernel = Kernel.CreateBuilder()\n",
    "                   .AddAzureOpenAIChatCompletion(\n",
    "                       endpoint: config[\"Azure:OpenAI:Endpoint\"],\n",
    "                       apiKey: config[\"Azure:OpenAI:Token\"],\n",
    "                       deploymentName: config[\"Azure:OpenAI:ModelName\"])\n",
    "                   .Build();"
   ]
  },
  {
   "cell_type": "code",
   "execution_count": null,
   "metadata": {
    "vscode": {
     "languageId": "polyglot-notebook"
    }
   },
   "outputs": [],
   "source": [
    "// Import native plugin codebase\n",
    "#!import Plugins/Appointment.cs\n",
    "#!import Plugins/BookingsPlugin.cs\n"
   ]
  },
  {
   "cell_type": "code",
   "execution_count": null,
   "metadata": {
    "vscode": {
     "languageId": "polyglot-notebook"
    }
   },
   "outputs": [],
   "source": [
    "// Import native plugin\n",
    "kernel.Plugins.AddFromType<BookingsPlugin>();\n"
   ]
  },
  {
   "cell_type": "code",
   "execution_count": null,
   "metadata": {
    "vscode": {
     "languageId": "polyglot-notebook"
    }
   },
   "outputs": [],
   "source": [
    "// Get chat completion service\n",
    "var chatCompletionService = kernel.GetRequiredService<IChatCompletionService>();\n",
    "\n",
    "// Start the conversation\n",
    "string? input = null;\n"
   ]
  },
  {
   "cell_type": "code",
   "execution_count": null,
   "metadata": {
    "vscode": {
     "languageId": "polyglot-notebook"
    }
   },
   "outputs": [],
   "source": [
    "// Enable function calling behaviour: Auto\n",
    "var executionSettings = new OpenAIPromptExecutionSettings\n",
    "{\n",
    "    FunctionChoiceBehavior = FunctionChoiceBehavior.Auto()\n",
    "};"
   ]
  },
  {
   "cell_type": "code",
   "execution_count": null,
   "metadata": {
    "vscode": {
     "languageId": "polyglot-notebook"
    }
   },
   "outputs": [],
   "source": [
    "// Enable function calling behaviour: Required\n",
    "var plugin = kernel.Plugins.SingleOrDefault(p => p.Name == \"BookingsPlugin\");\n",
    "var function = plugin.SingleOrDefault(p => p.Name == \"ListRestaurant\");\n",
    "\n",
    "var executionSettings = new OpenAIPromptExecutionSettings\n",
    "{\n",
    "    FunctionChoiceBehavior = FunctionChoiceBehavior.Required(functions: new[] { function })\n",
    "};"
   ]
  },
  {
   "cell_type": "code",
   "execution_count": null,
   "metadata": {
    "vscode": {
     "languageId": "polyglot-notebook"
    }
   },
   "outputs": [],
   "source": [
    "// Enable function calling behaviour: None\n",
    "var executionSettings = new OpenAIPromptExecutionSettings\n",
    "{\n",
    "    FunctionChoiceBehavior = FunctionChoiceBehavior.None()\n",
    "};"
   ]
  },
  {
   "cell_type": "code",
   "execution_count": null,
   "metadata": {
    "vscode": {
     "languageId": "polyglot-notebook"
    }
   },
   "outputs": [],
   "source": [
    "// Run assistant\n",
    "ChatHistory chatHistory = [];\n",
    "\n",
    "while (true)\n",
    "{\n",
    "    Console.Write(\"User > \");\n",
    "\n",
    "    try\n",
    "    {\n",
    "        input = await Microsoft.DotNet.Interactive.Kernel.GetInputAsync(\"무엇을 도와드릴까요?\");\n",
    "    }\n",
    "    catch (Exception ex)\n",
    "    {\n",
    "        Console.WriteLine(\"이용해 주셔서 감사합니다.\");\n",
    "        break;\n",
    "    }\n",
    "\n",
    "    chatHistory.AddUserMessage(input);\n",
    "\n",
    "    // Get the result from the AI\n",
    "    var result = await chatCompletionService.GetChatMessageContentAsync(chatHistory, executionSettings, kernel);\n",
    "\n",
    "    // Print the result\n",
    "    Console.WriteLine(\"Assistant > \" + result);\n",
    "\n",
    "    // Add the message from the agent to the chat history\n",
    "    chatHistory.AddMessage(result.Role, result?.Content!);\n",
    "}\n"
   ]
  }
 ],
 "metadata": {
  "kernelspec": {
   "display_name": ".NET (C#)",
   "language": "C#",
   "name": ".net-csharp"
  },
  "language_info": {
   "name": "python"
  },
  "polyglot_notebook": {
   "kernelInfo": {
    "defaultKernelName": "csharp",
    "items": [
     {
      "aliases": [],
      "name": "csharp"
     }
    ]
   }
  }
 },
 "nbformat": 4,
 "nbformat_minor": 2
}
