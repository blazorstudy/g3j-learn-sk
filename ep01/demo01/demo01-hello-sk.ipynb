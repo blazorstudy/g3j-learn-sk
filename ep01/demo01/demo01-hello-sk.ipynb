{
 "cells": [
  {
   "cell_type": "code",
   "execution_count": null,
   "metadata": {
    "dotnet_interactive": {
     "language": "csharp"
    },
    "polyglot_notebook": {
     "kernelName": "csharp"
    },
    "vscode": {
     "languageId": "polyglot-notebook"
    }
   },
   "outputs": [],
   "source": [
    "// Import NuGet packages\n",
    "#r \"nuget: Microsoft.Extensions.Configuration.Json, 9.*\"\n",
    "#r \"nuget: Microsoft.Extensions.AI, 9.*-*\"\n",
    "#r \"nuget: Microsoft.Extensions.DependencyInjection.Abstractions, 9.*\"\n",
    "#r \"nuget: Microsoft.SemanticKernel, 1.*\"\n",
    "#r \"nuget: Microsoft.SemanticKernel.Plugins.Core, 1.*-*\"\n"
   ]
  },
  {
   "cell_type": "code",
   "execution_count": 2,
   "metadata": {
    "dotnet_interactive": {
     "language": "csharp"
    },
    "polyglot_notebook": {
     "kernelName": "csharp"
    },
    "vscode": {
     "languageId": "polyglot-notebook"
    }
   },
   "outputs": [],
   "source": [
    "// Import namespaces\n",
    "using Microsoft.SemanticKernel;"
   ]
  },
  {
   "cell_type": "code",
   "execution_count": 5,
   "metadata": {
    "dotnet_interactive": {
     "language": "csharp"
    },
    "polyglot_notebook": {
     "kernelName": "csharp"
    },
    "vscode": {
     "languageId": "polyglot-notebook"
    }
   },
   "outputs": [],
   "source": [
    "// Get Azure OpenAI access details\n",
    "var endpoint = await Microsoft.DotNet.Interactive.Kernel.GetPasswordAsync(\"Endpoint\");\n",
    "var apiKey = await Microsoft.DotNet.Interactive.Kernel.GetPasswordAsync(\"API Key\");\n",
    "var deploymentName = await Microsoft.DotNet.Interactive.Kernel.GetInputAsync(\"Model\");"
   ]
  },
  {
   "cell_type": "code",
   "execution_count": 7,
   "metadata": {
    "dotnet_interactive": {
     "language": "csharp"
    },
    "polyglot_notebook": {
     "kernelName": "csharp"
    },
    "vscode": {
     "languageId": "polyglot-notebook"
    }
   },
   "outputs": [],
   "source": [
    "// Build Semantic Kernel\n",
    "var kernel = Kernel.CreateBuilder()\n",
    "                   .AddAzureOpenAIChatCompletion(\n",
    "                       endpoint: endpoint.GetClearTextPassword(),\n",
    "                       apiKey: apiKey.GetClearTextPassword(),\n",
    "                       deploymentName: deploymentName)\n",
    "                   .Build();"
   ]
  },
  {
   "cell_type": "code",
   "execution_count": null,
   "metadata": {
    "dotnet_interactive": {
     "language": "csharp"
    },
    "polyglot_notebook": {
     "kernelName": "csharp"
    },
    "vscode": {
     "languageId": "polyglot-notebook"
    }
   },
   "outputs": [],
   "source": [
    "// Get prompt from user\n",
    "var prompt = await Microsoft.DotNet.Interactive.Kernel.GetInputAsync(\"Prompt\");\n",
    "\n",
    "Console.WriteLine(prompt);"
   ]
  },
  {
   "cell_type": "code",
   "execution_count": null,
   "metadata": {
    "dotnet_interactive": {
     "language": "csharp"
    },
    "polyglot_notebook": {
     "kernelName": "csharp"
    },
    "vscode": {
     "languageId": "polyglot-notebook"
    }
   },
   "outputs": [],
   "source": [
    "// Run prompt directly from the kernel\n",
    "var result = await kernel.InvokePromptAsync(prompt);\n",
    "\n",
    "Console.WriteLine(result);"
   ]
  }
 ],
 "metadata": {
  "kernelspec": {
   "display_name": ".NET (C#)",
   "language": "C#",
   "name": ".net-csharp"
  },
  "language_info": {
   "name": "python"
  },
  "polyglot_notebook": {
   "kernelInfo": {
    "defaultKernelName": "csharp",
    "items": [
     {
      "aliases": [],
      "name": "csharp"
     }
    ]
   }
  }
 },
 "nbformat": 4,
 "nbformat_minor": 2
}
